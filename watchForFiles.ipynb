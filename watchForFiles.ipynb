{
 "cells": [
  {
   "cell_type": "markdown",
   "metadata": {},
   "source": [
    "#Watch a directory and plot fits files as they appear\n",
    "\n",
    "The Wathcher example class can be found online (either at watchdog docs or from Cho https://www.michaelcho.me/article/using-pythons-watchdog-to-monitor-changes-to-a-directory).\n",
    "\n",
    "In this one we count fits files and render every Nth one  to the notebook."
   ]
  },
  {
   "cell_type": "code",
   "execution_count": null,
   "metadata": {},
   "outputs": [],
   "source": [
    "import sys\n",
    "import os\n",
    "from watch import FitsWatcher \n",
    "\n",
    "%matplotlib inline\n",
    "%config InlineBackend.figure_format = 'retina'\n",
    "        "
   ]
  },
  {
   "cell_type": "markdown",
   "metadata": {},
   "source": [
    "This is the the Main loop , here you must enter the directory to monitor and the number of files to skip over before rendering one. The output will be in the next cell after this. "
   ]
  },
  {
   "cell_type": "code",
   "execution_count": null,
   "metadata": {},
   "outputs": [],
   "source": [
    "    d = \"tmp\"\n",
    "    skip = 2\n",
    "    w = FitsWatcher(d,skip)\n",
    "    w.run()\n"
   ]
  }
 ],
 "metadata": {
  "kernelspec": {
   "display_name": "Python 3",
   "language": "python",
   "name": "python3"
  },
  "language_info": {
   "codemirror_mode": {
    "name": "ipython",
    "version": 3
   },
   "file_extension": ".py",
   "mimetype": "text/x-python",
   "name": "python",
   "nbconvert_exporter": "python",
   "pygments_lexer": "ipython3",
   "version": "3.5.2"
  }
 },
 "nbformat": 4,
 "nbformat_minor": 2
}
