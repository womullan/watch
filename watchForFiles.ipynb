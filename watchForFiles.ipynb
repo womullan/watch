{
 "cells": [
  {
   "cell_type": "markdown",
   "metadata": {},
   "source": [
    "#Watch a directory and plot fits files as they appear\n",
    "\n",
    "The Wathcher example class can be found online (either at watchdog docs or from Cho https://www.michaelcho.me/article/using-pythons-watchdog-to-monitor-changes-to-a-directory).\n",
    "\n",
    "In this one we count fits files and render every Nth one  to the notebook."
   ]
  },
  {
   "cell_type": "code",
   "execution_count": null,
   "metadata": {},
   "outputs": [],
   "source": [
    "import sys\n",
    "import time\n",
    "import os\n",
    "from watchdog.observers import Observer\n",
    "from watchdog.events import FileSystemEventHandler\n",
    "from astropy.io import fits\n",
    "import matplotlib.pyplot as plt\n",
    "\n",
    "% matplotlib inline\n",
    "%config InlineBackend.figure_format = 'retina'\n",
    "\n",
    "\n",
    "\n",
    "class Watcher:\n",
    "    DIRECTORY_TO_WATCH = \".\"\n",
    "    NUM_TO_SKIP = 5\n",
    "    \n",
    "\n",
    "    def __init__(self,dirName, numToSkip):\n",
    "        self.observer = Observer()\n",
    "        self.DIRECTORY_TO_WATCH = dirName\n",
    "        self.NUM_TO_SKIP=numToSkip\n",
    "        print(\"Monitoring - %s render each %d.\"% (self.DIRECTORY_TO_WATCH , self.NUM_TO_SKIP))\n",
    "\n",
    "\n",
    "    def run(self):\n",
    "        event_handler = Handler(self.NUM_TO_SKIP)\n",
    "        self.observer.schedule(event_handler, self.DIRECTORY_TO_WATCH, recursive=True)\n",
    "        self.observer.start()\n",
    "        try:\n",
    "            while True:\n",
    "                time.sleep(5)\n",
    "        except:\n",
    "            self.observer.stop()\n",
    "            print(\"Error\")\n",
    "\n",
    "        self.observer.join()\n",
    "\n",
    "class Handler(FileSystemEventHandler):\n",
    "    COUNT=0\n",
    "    NUM_TO_SKIP=0\n",
    "    \n",
    "    def __init__(self,skip):\n",
    "        Handler.COUNT=0\n",
    "        Handler.NUM_TO_SKIP=skip\n",
    "    \n",
    "    @staticmethod\n",
    "    def on_moved(event):\n",
    "        if event.is_directory:\n",
    "            return None\n",
    "\n",
    "        #elif event.event_type == 'created':\n",
    "        # Count fits files and render some of them .. \n",
    "        print(\"Received - %s.\" % event.src_path)\n",
    "        if (event.src_path.endswith(\".fits\") or event.src_path.endswith(\".fits.gz\") ):\n",
    "            Handler.COUNT = Handler.COUNT + 1\n",
    "            if (Handler.COUNT % Handler.NUM_TO_SKIP == 0):\n",
    "                Handler.render(event.src_path)\n",
    "        else:\n",
    "            print(\"Skipping - %s.\" % event.src_path)\n",
    "\n",
    "    @staticmethod\n",
    "    def render(filePath):\n",
    "        print(\"Rendering - %s.\" % filePath)\n",
    "        image_data = fits.getdata(filePath)\n",
    "        plt.rcParams['figure.figsize'] = [10, 10]\n",
    "        plt.imshow(image_data, cmap='gray')\n",
    "        plt.colorbar()\n",
    "        plt.show()\n",
    "        \n",
    "        "
   ]
  },
  {
   "cell_type": "markdown",
   "metadata": {},
   "source": [
    "This is the the Main loop , here you must enter the directory to monitor and the number of files to skip over before rendering one. The output will be in the next cell after this. "
   ]
  },
  {
   "cell_type": "code",
   "execution_count": null,
   "metadata": {},
   "outputs": [],
   "source": [
    "    d = \"/home/womullan/notebooks/tmp\"\n",
    "    skip = 2\n",
    "    w = Watcher(d,skip)\n",
    "    w.run()\n"
   ]
  },
  {
   "cell_type": "code",
   "execution_count": null,
   "metadata": {},
   "outputs": [],
   "source": []
  }
 ],
 "metadata": {
  "kernelspec": {
   "display_name": "Python 3",
   "language": "python",
   "name": "python3"
  },
  "language_info": {
   "codemirror_mode": {
    "name": "ipython",
    "version": 3
   },
   "file_extension": ".py",
   "mimetype": "text/x-python",
   "name": "python",
   "nbconvert_exporter": "python",
   "pygments_lexer": "ipython3",
   "version": "3.6.3"
  }
 },
 "nbformat": 4,
 "nbformat_minor": 2
}
